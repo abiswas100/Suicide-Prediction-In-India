{
 "cells": [
  {
   "cell_type": "code",
   "execution_count": 48,
   "metadata": {},
   "outputs": [],
   "source": [
    "#imports\n",
    "import pandas as pd\n",
    "import matplotlib.pyplot as plt\n",
    "import numpy as np\n",
    "from sklearn.linear_model import LinearRegression\n",
    "from sklearn.model_selection import train_test_split"
   ]
  },
  {
   "cell_type": "code",
   "execution_count": 21,
   "metadata": {},
   "outputs": [],
   "source": [
    "ds = pd.read_csv(\"Education_Status.csv\")"
   ]
  },
  {
   "cell_type": "markdown",
   "metadata": {},
   "source": [
    "# Cataegorizing Education Level"
   ]
  },
  {
   "cell_type": "code",
   "execution_count": 22,
   "metadata": {},
   "outputs": [],
   "source": [
    "def val(x):\n",
    "    if(x == 'No Education'):\n",
    "        return 0\n",
    "    elif(x == 'Primary'):\n",
    "        return 1\n",
    "    elif(x == 'Middle'):\n",
    "        return 2\n",
    "    elif(x == 'Matriculate/Secondary'):\n",
    "        return 3\n",
    "    elif(x == 'Hr. Secondary/Intermediate/Pre-Universit'):\n",
    "        return 4\n",
    "    elif(x == 'Diploma'):\n",
    "        return 5\n",
    "    elif(x == 'Graduate'):\n",
    "        return 6\n",
    "    elif(x == 'Post Graduate and Above'):\n",
    "        return 7\n",
    "    else: return 8"
   ]
  },
  {
   "cell_type": "code",
   "execution_count": 23,
   "metadata": {},
   "outputs": [],
   "source": [
    "cataegory = pd.Series([]) \n",
    "for ind,row in ds.iterrows():\n",
    "    ds.loc[ind,\"Cataegory\"] = val(ds.loc[ind,\"Type\"])\n",
    "ds = ds.astype({\"Cataegory\": int})"
   ]
  },
  {
   "cell_type": "markdown",
   "metadata": {},
   "source": [
    "# Level Encoding of Gender {Male-0, Female-1}"
   ]
  },
  {
   "cell_type": "code",
   "execution_count": 111,
   "metadata": {},
   "outputs": [
    {
     "data": {
      "text/html": [
       "<div>\n",
       "<style scoped>\n",
       "    .dataframe tbody tr th:only-of-type {\n",
       "        vertical-align: middle;\n",
       "    }\n",
       "\n",
       "    .dataframe tbody tr th {\n",
       "        vertical-align: top;\n",
       "    }\n",
       "\n",
       "    .dataframe thead th {\n",
       "        text-align: right;\n",
       "    }\n",
       "</style>\n",
       "<table border=\"1\" class=\"dataframe\">\n",
       "  <thead>\n",
       "    <tr style=\"text-align: right;\">\n",
       "      <th></th>\n",
       "      <th>State</th>\n",
       "      <th>Year</th>\n",
       "      <th>Type_code</th>\n",
       "      <th>Type</th>\n",
       "      <th>Gender</th>\n",
       "      <th>Age_group</th>\n",
       "      <th>Total</th>\n",
       "      <th>Cataegory</th>\n",
       "      <th>Coded_Gender</th>\n",
       "    </tr>\n",
       "  </thead>\n",
       "  <tbody>\n",
       "    <tr>\n",
       "      <th>0</th>\n",
       "      <td>West Bengal</td>\n",
       "      <td>2001</td>\n",
       "      <td>Education_Status</td>\n",
       "      <td>Hr. Secondary/Intermediate/Pre-Universit</td>\n",
       "      <td>Female</td>\n",
       "      <td>0-100+</td>\n",
       "      <td>392</td>\n",
       "      <td>4</td>\n",
       "      <td>1</td>\n",
       "    </tr>\n",
       "    <tr>\n",
       "      <th>1</th>\n",
       "      <td>West Bengal</td>\n",
       "      <td>2001</td>\n",
       "      <td>Education_Status</td>\n",
       "      <td>Diploma</td>\n",
       "      <td>Female</td>\n",
       "      <td>0-100+</td>\n",
       "      <td>116</td>\n",
       "      <td>5</td>\n",
       "      <td>1</td>\n",
       "    </tr>\n",
       "    <tr>\n",
       "      <th>2</th>\n",
       "      <td>West Bengal</td>\n",
       "      <td>2001</td>\n",
       "      <td>Education_Status</td>\n",
       "      <td>No Education</td>\n",
       "      <td>Female</td>\n",
       "      <td>0-100+</td>\n",
       "      <td>1989</td>\n",
       "      <td>0</td>\n",
       "      <td>1</td>\n",
       "    </tr>\n",
       "    <tr>\n",
       "      <th>3</th>\n",
       "      <td>West Bengal</td>\n",
       "      <td>2001</td>\n",
       "      <td>Education_Status</td>\n",
       "      <td>Post Graduate and Above</td>\n",
       "      <td>Female</td>\n",
       "      <td>0-100+</td>\n",
       "      <td>38</td>\n",
       "      <td>7</td>\n",
       "      <td>1</td>\n",
       "    </tr>\n",
       "    <tr>\n",
       "      <th>4</th>\n",
       "      <td>West Bengal</td>\n",
       "      <td>2001</td>\n",
       "      <td>Education_Status</td>\n",
       "      <td>Middle</td>\n",
       "      <td>Female</td>\n",
       "      <td>0-100+</td>\n",
       "      <td>1222</td>\n",
       "      <td>2</td>\n",
       "      <td>1</td>\n",
       "    </tr>\n",
       "    <tr>\n",
       "      <th>...</th>\n",
       "      <td>...</td>\n",
       "      <td>...</td>\n",
       "      <td>...</td>\n",
       "      <td>...</td>\n",
       "      <td>...</td>\n",
       "      <td>...</td>\n",
       "      <td>...</td>\n",
       "      <td>...</td>\n",
       "      <td>...</td>\n",
       "    </tr>\n",
       "    <tr>\n",
       "      <th>187</th>\n",
       "      <td>West Bengal</td>\n",
       "      <td>2012</td>\n",
       "      <td>Education_Status</td>\n",
       "      <td>Primary</td>\n",
       "      <td>Male</td>\n",
       "      <td>0-100+</td>\n",
       "      <td>2983</td>\n",
       "      <td>1</td>\n",
       "      <td>0</td>\n",
       "    </tr>\n",
       "    <tr>\n",
       "      <th>188</th>\n",
       "      <td>West Bengal</td>\n",
       "      <td>2012</td>\n",
       "      <td>Education_Status</td>\n",
       "      <td>No Education</td>\n",
       "      <td>Male</td>\n",
       "      <td>0-100+</td>\n",
       "      <td>1096</td>\n",
       "      <td>0</td>\n",
       "      <td>0</td>\n",
       "    </tr>\n",
       "    <tr>\n",
       "      <th>189</th>\n",
       "      <td>West Bengal</td>\n",
       "      <td>2012</td>\n",
       "      <td>Education_Status</td>\n",
       "      <td>Middle</td>\n",
       "      <td>Male</td>\n",
       "      <td>0-100+</td>\n",
       "      <td>2467</td>\n",
       "      <td>2</td>\n",
       "      <td>0</td>\n",
       "    </tr>\n",
       "    <tr>\n",
       "      <th>190</th>\n",
       "      <td>West Bengal</td>\n",
       "      <td>2012</td>\n",
       "      <td>Education_Status</td>\n",
       "      <td>Graduate</td>\n",
       "      <td>Male</td>\n",
       "      <td>0-100+</td>\n",
       "      <td>242</td>\n",
       "      <td>6</td>\n",
       "      <td>0</td>\n",
       "    </tr>\n",
       "    <tr>\n",
       "      <th>191</th>\n",
       "      <td>West Bengal</td>\n",
       "      <td>2012</td>\n",
       "      <td>Education_Status</td>\n",
       "      <td>Matriculate/Secondary</td>\n",
       "      <td>Male</td>\n",
       "      <td>0-100+</td>\n",
       "      <td>1260</td>\n",
       "      <td>3</td>\n",
       "      <td>0</td>\n",
       "    </tr>\n",
       "  </tbody>\n",
       "</table>\n",
       "<p>192 rows × 9 columns</p>\n",
       "</div>"
      ],
      "text/plain": [
       "           State  Year         Type_code  \\\n",
       "0    West Bengal  2001  Education_Status   \n",
       "1    West Bengal  2001  Education_Status   \n",
       "2    West Bengal  2001  Education_Status   \n",
       "3    West Bengal  2001  Education_Status   \n",
       "4    West Bengal  2001  Education_Status   \n",
       "..           ...   ...               ...   \n",
       "187  West Bengal  2012  Education_Status   \n",
       "188  West Bengal  2012  Education_Status   \n",
       "189  West Bengal  2012  Education_Status   \n",
       "190  West Bengal  2012  Education_Status   \n",
       "191  West Bengal  2012  Education_Status   \n",
       "\n",
       "                                         Type  Gender Age_group  Total  \\\n",
       "0    Hr. Secondary/Intermediate/Pre-Universit  Female    0-100+    392   \n",
       "1                                     Diploma  Female    0-100+    116   \n",
       "2                                No Education  Female    0-100+   1989   \n",
       "3                     Post Graduate and Above  Female    0-100+     38   \n",
       "4                                      Middle  Female    0-100+   1222   \n",
       "..                                        ...     ...       ...    ...   \n",
       "187                                   Primary    Male    0-100+   2983   \n",
       "188                              No Education    Male    0-100+   1096   \n",
       "189                                    Middle    Male    0-100+   2467   \n",
       "190                                  Graduate    Male    0-100+    242   \n",
       "191                     Matriculate/Secondary    Male    0-100+   1260   \n",
       "\n",
       "     Cataegory  Coded_Gender  \n",
       "0            4             1  \n",
       "1            5             1  \n",
       "2            0             1  \n",
       "3            7             1  \n",
       "4            2             1  \n",
       "..         ...           ...  \n",
       "187          1             0  \n",
       "188          0             0  \n",
       "189          2             0  \n",
       "190          6             0  \n",
       "191          3             0  \n",
       "\n",
       "[192 rows x 9 columns]"
      ]
     },
     "execution_count": 111,
     "metadata": {},
     "output_type": "execute_result"
    }
   ],
   "source": [
    "def coding_gender(x):\n",
    "    if(x == 'Female'):\n",
    "        return int(1)\n",
    "    else : return int(0)\n",
    "\n",
    "code_gender = pd.Series([]) \n",
    "for ind,row in ds.iterrows():\n",
    "    ds.loc[ind,\"Coded_Gender\"] = coding_gender(ds.loc[ind,\"Gender\"])\n",
    "\n",
    "#converting to Int64\n",
    "ds = ds.astype({\"Coded_Gender\": int})\n",
    "ds"
   ]
  },
  {
   "cell_type": "markdown",
   "metadata": {},
   "source": [
    "# Cleaning Dataset"
   ]
  },
  {
   "cell_type": "code",
   "execution_count": 39,
   "metadata": {},
   "outputs": [
    {
     "data": {
      "text/html": [
       "<div>\n",
       "<style scoped>\n",
       "    .dataframe tbody tr th:only-of-type {\n",
       "        vertical-align: middle;\n",
       "    }\n",
       "\n",
       "    .dataframe tbody tr th {\n",
       "        vertical-align: top;\n",
       "    }\n",
       "\n",
       "    .dataframe thead th {\n",
       "        text-align: right;\n",
       "    }\n",
       "</style>\n",
       "<table border=\"1\" class=\"dataframe\">\n",
       "  <thead>\n",
       "    <tr style=\"text-align: right;\">\n",
       "      <th></th>\n",
       "      <th>Total</th>\n",
       "      <th>Cataegory</th>\n",
       "    </tr>\n",
       "  </thead>\n",
       "  <tbody>\n",
       "    <tr>\n",
       "      <th>0</th>\n",
       "      <td>392</td>\n",
       "      <td>4</td>\n",
       "    </tr>\n",
       "    <tr>\n",
       "      <th>1</th>\n",
       "      <td>116</td>\n",
       "      <td>5</td>\n",
       "    </tr>\n",
       "    <tr>\n",
       "      <th>2</th>\n",
       "      <td>1989</td>\n",
       "      <td>0</td>\n",
       "    </tr>\n",
       "    <tr>\n",
       "      <th>3</th>\n",
       "      <td>38</td>\n",
       "      <td>7</td>\n",
       "    </tr>\n",
       "    <tr>\n",
       "      <th>4</th>\n",
       "      <td>1222</td>\n",
       "      <td>2</td>\n",
       "    </tr>\n",
       "    <tr>\n",
       "      <th>...</th>\n",
       "      <td>...</td>\n",
       "      <td>...</td>\n",
       "    </tr>\n",
       "    <tr>\n",
       "      <th>187</th>\n",
       "      <td>2983</td>\n",
       "      <td>1</td>\n",
       "    </tr>\n",
       "    <tr>\n",
       "      <th>188</th>\n",
       "      <td>1096</td>\n",
       "      <td>0</td>\n",
       "    </tr>\n",
       "    <tr>\n",
       "      <th>189</th>\n",
       "      <td>2467</td>\n",
       "      <td>2</td>\n",
       "    </tr>\n",
       "    <tr>\n",
       "      <th>190</th>\n",
       "      <td>242</td>\n",
       "      <td>6</td>\n",
       "    </tr>\n",
       "    <tr>\n",
       "      <th>191</th>\n",
       "      <td>1260</td>\n",
       "      <td>3</td>\n",
       "    </tr>\n",
       "  </tbody>\n",
       "</table>\n",
       "<p>192 rows × 2 columns</p>\n",
       "</div>"
      ],
      "text/plain": [
       "     Total  Cataegory\n",
       "0      392          4\n",
       "1      116          5\n",
       "2     1989          0\n",
       "3       38          7\n",
       "4     1222          2\n",
       "..     ...        ...\n",
       "187   2983          1\n",
       "188   1096          0\n",
       "189   2467          2\n",
       "190    242          6\n",
       "191   1260          3\n",
       "\n",
       "[192 rows x 2 columns]"
      ]
     },
     "execution_count": 39,
     "metadata": {},
     "output_type": "execute_result"
    }
   ],
   "source": [
    "useful_Data = ds.drop(['State','Year','Type_code','Type','Gender','Age_group','Coded_Gender'],axis='columns')\n",
    "useful_Data"
   ]
  },
  {
   "cell_type": "markdown",
   "metadata": {},
   "source": [
    "# Creating Regression Model(Cataegory vs Total)"
   ]
  },
  {
   "cell_type": "code",
   "execution_count": 96,
   "metadata": {},
   "outputs": [],
   "source": [
    "model = LinearRegression()\n",
    "X = useful_Data.drop(['Total'],axis = 'columns')\n",
    "Y = useful_Data.Total\n",
    "x_train, x_test, y_train, y_test = train_test_split(X,Y,test_size=1/4)"
   ]
  },
  {
   "cell_type": "code",
   "execution_count": 97,
   "metadata": {},
   "outputs": [
    {
     "data": {
      "text/plain": [
       "LinearRegression(copy_X=True, fit_intercept=True, n_jobs=None, normalize=False)"
      ]
     },
     "execution_count": 97,
     "metadata": {},
     "output_type": "execute_result"
    }
   ],
   "source": [
    "model.fit(x_train,y_train)"
   ]
  },
  {
   "cell_type": "code",
   "execution_count": 98,
   "metadata": {},
   "outputs": [
    {
     "data": {
      "image/png": "[encoded data removed]",
      "text/plain": [
       "<Figure size 432x288 with 1 Axes>"
      ]
     },
     "metadata": {
      "needs_background": "light"
     },
     "output_type": "display_data"
    }
   ],
   "source": [
    "plt.scatter(x_train,y_train,color = 'red')\n",
    "plt.plot(x_train,model.predict(x_train),color='green')\n",
    "plt.xlabel(\"Cataegory\")\n",
    "plt.ylabel(\"Total Deaths\")\n",
    "plt.show()"
   ]
  },
  {
   "cell_type": "code",
   "execution_count": 110,
   "metadata": {},
   "outputs": [
    {
     "name": "stdout",
     "output_type": "stream",
     "text": [
      "[0.00043091]\n"
     ]
    }
   ],
   "source": [
    "print(model.coef_)"
   ]
  },
  {
   "cell_type": "markdown",
   "metadata": {},
   "source": [
    "# On test Data"
   ]
  },
  {
   "cell_type": "code",
   "execution_count": 99,
   "metadata": {},
   "outputs": [
    {
     "data": {
      "image/png": "[encoded data removed]",
      "text/plain": [
       "<Figure size 432x288 with 1 Axes>"
      ]
     },
     "metadata": {
      "needs_background": "light"
     },
     "output_type": "display_data"
    }
   ],
   "source": [
    "plt.scatter(x_test,y_test,color = 'red')\n",
    "plt.plot(x_test,model.predict(x_test),color='green')\n",
    "plt.xlabel(\"Cataegory\")\n",
    "plt.ylabel(\"Total Deaths\")\n",
    "plt.show()"
   ]
  },
  {
   "cell_type": "markdown",
   "metadata": {},
   "source": [
    "# Linear Regression Model (Cataegory vs Coded_Gender)"
   ]
  },
  {
   "cell_type": "code",
   "execution_count": 101,
   "metadata": {},
   "outputs": [
    {
     "data": {
      "text/html": [
       "<div>\n",
       "<style scoped>\n",
       "    .dataframe tbody tr th:only-of-type {\n",
       "        vertical-align: middle;\n",
       "    }\n",
       "\n",
       "    .dataframe tbody tr th {\n",
       "        vertical-align: top;\n",
       "    }\n",
       "\n",
       "    .dataframe thead th {\n",
       "        text-align: right;\n",
       "    }\n",
       "</style>\n",
       "<table border=\"1\" class=\"dataframe\">\n",
       "  <thead>\n",
       "    <tr style=\"text-align: right;\">\n",
       "      <th></th>\n",
       "      <th>Cataegory</th>\n",
       "      <th>Coded_Gender</th>\n",
       "    </tr>\n",
       "  </thead>\n",
       "  <tbody>\n",
       "    <tr>\n",
       "      <th>0</th>\n",
       "      <td>4</td>\n",
       "      <td>1</td>\n",
       "    </tr>\n",
       "    <tr>\n",
       "      <th>1</th>\n",
       "      <td>5</td>\n",
       "      <td>1</td>\n",
       "    </tr>\n",
       "    <tr>\n",
       "      <th>2</th>\n",
       "      <td>0</td>\n",
       "      <td>1</td>\n",
       "    </tr>\n",
       "    <tr>\n",
       "      <th>3</th>\n",
       "      <td>7</td>\n",
       "      <td>1</td>\n",
       "    </tr>\n",
       "    <tr>\n",
       "      <th>4</th>\n",
       "      <td>2</td>\n",
       "      <td>1</td>\n",
       "    </tr>\n",
       "    <tr>\n",
       "      <th>...</th>\n",
       "      <td>...</td>\n",
       "      <td>...</td>\n",
       "    </tr>\n",
       "    <tr>\n",
       "      <th>187</th>\n",
       "      <td>1</td>\n",
       "      <td>0</td>\n",
       "    </tr>\n",
       "    <tr>\n",
       "      <th>188</th>\n",
       "      <td>0</td>\n",
       "      <td>0</td>\n",
       "    </tr>\n",
       "    <tr>\n",
       "      <th>189</th>\n",
       "      <td>2</td>\n",
       "      <td>0</td>\n",
       "    </tr>\n",
       "    <tr>\n",
       "      <th>190</th>\n",
       "      <td>6</td>\n",
       "      <td>0</td>\n",
       "    </tr>\n",
       "    <tr>\n",
       "      <th>191</th>\n",
       "      <td>3</td>\n",
       "      <td>0</td>\n",
       "    </tr>\n",
       "  </tbody>\n",
       "</table>\n",
       "<p>192 rows × 2 columns</p>\n",
       "</div>"
      ],
      "text/plain": [
       "     Cataegory  Coded_Gender\n",
       "0            4             1\n",
       "1            5             1\n",
       "2            0             1\n",
       "3            7             1\n",
       "4            2             1\n",
       "..         ...           ...\n",
       "187          1             0\n",
       "188          0             0\n",
       "189          2             0\n",
       "190          6             0\n",
       "191          3             0\n",
       "\n",
       "[192 rows x 2 columns]"
      ]
     },
     "execution_count": 101,
     "metadata": {},
     "output_type": "execute_result"
    }
   ],
   "source": [
    "useful_Data1 = ds.drop(['State','Year','Type_code','Type','Gender','Age_group','Total'],axis='columns')\n",
    "useful_Data1"
   ]
  },
  {
   "cell_type": "code",
   "execution_count": 106,
   "metadata": {},
   "outputs": [],
   "source": [
    "model = LinearRegression()\n",
    "X1 = useful_Data1.drop(['Coded_Gender'],axis = 'columns')\n",
    "Y1 = useful_Data1.Coded_Gender\n",
    "x_train1, x_test1, y_train1, y_test1 = train_test_split(X1,Y1,test_size=1/4)"
   ]
  },
  {
   "cell_type": "code",
   "execution_count": 107,
   "metadata": {},
   "outputs": [
    {
     "data": {
      "text/plain": [
       "LinearRegression(copy_X=True, fit_intercept=True, n_jobs=None, normalize=False)"
      ]
     },
     "execution_count": 107,
     "metadata": {},
     "output_type": "execute_result"
    }
   ],
   "source": [
    "model.fit(x_train1,y_train1)"
   ]
  },
  {
   "cell_type": "code",
   "execution_count": 108,
   "metadata": {},
   "outputs": [
    {
     "data": {
      "image/png": "[encoded data removed]",
      "text/plain": [
       "<Figure size 432x288 with 1 Axes>"
      ]
     },
     "metadata": {
      "needs_background": "light"
     },
     "output_type": "display_data"
    }
   ],
   "source": [
    "plt.scatter(x_train1,y_train1,color = 'red')\n",
    "plt.plot(x_train1,model.predict(x_train1),color='blue')\n",
    "plt.xlabel(\"Cataegory\")\n",
    "plt.ylabel(\"Gender\")\n",
    "plt.show()"
   ]
  },
  {
   "cell_type": "markdown",
   "metadata": {},
   "source": [
    "# On test data"
   ]
  },
  {
   "cell_type": "code",
   "execution_count": 109,
   "metadata": {},
   "outputs": [
    {
     "data": {
      "image/png": "[encoded data removed]",
      "text/plain": [
       "<Figure size 432x288 with 1 Axes>"
      ]
     },
     "metadata": {
      "needs_background": "light"
     },
     "output_type": "display_data"
    }
   ],
   "source": [
    "plt.scatter(x_test1,y_test1,color = 'red')\n",
    "plt.plot(x_test1,model.predict(x_test1),color='blue')\n",
    "plt.xlabel(\"Cataegory\")\n",
    "plt.ylabel(\"Gender\")\n",
    "plt.show()"
   ]
  }
 ],
 "metadata": {
  "kernelspec": {
   "display_name": "Python 3",
   "language": "python",
   "name": "python3"
  },
  "language_info": {
   "codemirror_mode": {
    "name": "ipython",
    "version": 3
   },
   "file_extension": ".py",
   "mimetype": "text/x-python",
   "name": "python",
   "nbconvert_exporter": "python",
   "pygments_lexer": "ipython3",
   "version": "3.7.4"
  }
 },
 "nbformat": 4,
 "nbformat_minor": 2
}
